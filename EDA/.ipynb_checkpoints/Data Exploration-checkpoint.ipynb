{
 "cells": [
  {
   "cell_type": "markdown",
   "metadata": {},
   "source": [
    "# Homework 2 - Machine Learning Pipeline EDA\n",
    "#### Author: Kunyu He, CAPP'20"
   ]
  },
  {
   "cell_type": "code",
   "execution_count": 1,
   "metadata": {},
   "outputs": [],
   "source": [
    "import sys\n",
    "sys.path.append('../codes/')"
   ]
  },
  {
   "cell_type": "code",
   "execution_count": 2,
   "metadata": {},
   "outputs": [],
   "source": [
    "import json\n",
    "import pandas as pd\n",
    "import matplotlib.pyplot as plt\n",
    "import seaborn as sns\n",
    "\n",
    "import viz"
   ]
  },
  {
   "cell_type": "code",
   "execution_count": 3,
   "metadata": {},
   "outputs": [],
   "source": [
    "INPUT_DIR = \"../data/\"\n",
    "OUTPUT_DIR = \"./images/\"\n",
    "NON_NUMERIC = [\"PersonID\", \"zipcode\", \"SeriousDlqin2yrs\"]"
   ]
  },
  {
   "cell_type": "code",
   "execution_count": 4,
   "metadata": {},
   "outputs": [],
   "source": [
    "%matplotlib inline\n",
    "plt.rcParams['figure.figsize'] = [12, 8]\n",
    "plt.rcParams['savefig.dpi'] = 400\n",
    "plt.rcParams['figure.dpi'] = 400\n",
    "\n",
    "sns.set(style=\"white\")"
   ]
  },
  {
   "cell_type": "markdown",
   "metadata": {},
   "source": [
    "## 1. Load Data"
   ]
  },
  {
   "cell_type": "markdown",
   "metadata": {},
   "source": [
    "Load data into our working environment. Skip all rows that contain any missing values."
   ]
  },
  {
   "cell_type": "code",
   "execution_count": 10,
   "metadata": {
    "scrolled": true
   },
   "outputs": [
    {
     "name": "stdout",
     "output_type": "stream",
     "text": [
      "<class 'pandas.core.frame.DataFrame'>\n",
      "Int64Index: 33042 entries, 0 to 41015\n",
      "Data columns (total 13 columns):\n",
      "PersonID                                33042 non-null int64\n",
      "SeriousDlqin2yrs                        33042 non-null int32\n",
      "RevolvingUtilizationOfUnsecuredLines    33042 non-null float64\n",
      "age                                     33042 non-null int32\n",
      "zipcode                                 33042 non-null object\n",
      "NumberOfTime30-59DaysPastDueNotWorse    33042 non-null int32\n",
      "DebtRatio                               33042 non-null float64\n",
      "MonthlyIncome                           33042 non-null float64\n",
      "NumberOfOpenCreditLinesAndLoans         33042 non-null int32\n",
      "NumberOfTimes90DaysLate                 33042 non-null int32\n",
      "NumberRealEstateLoansOrLines            33042 non-null int32\n",
      "NumberOfTime60-89DaysPastDueNotWorse    33042 non-null int32\n",
      "NumberOfDependents                      33042 non-null int32\n",
      "dtypes: float64(3), int32(8), int64(1), object(1)\n",
      "memory usage: 2.5+ MB\n"
     ]
    }
   ],
   "source": [
    "data, data_types = viz.read_clean_data(\"data_types.json\", \"credit-data.csv\",\n",
    "                                       drop_na=True)\n",
    "data = data.astype(data_types)\n",
    "data.info()"
   ]
  },
  {
   "cell_type": "markdown",
   "metadata": {},
   "source": [
    "Extract numeric columns from the data set."
   ]
  },
  {
   "cell_type": "code",
   "execution_count": null,
   "metadata": {},
   "outputs": [],
   "source": [
    "numerics = data[[col for col in data.columns if col not in NON_NUMERIC]]\n",
    "nvt = pd.concat([numerics, data.SeriousDlqin2yrs], axis=1)"
   ]
  },
  {
   "cell_type": "code",
   "execution_count": null,
   "metadata": {},
   "outputs": [],
   "source": [
    "numerics.columns"
   ]
  },
  {
   "cell_type": "code",
   "execution_count": null,
   "metadata": {},
   "outputs": [],
   "source": [
    "numerics.drop(['age', 'DebtRatio'], axis=1, inplace=True)\n",
    "numerics.columns"
   ]
  },
  {
   "cell_type": "markdown",
   "metadata": {},
   "source": [
    "## 2. EDA"
   ]
  },
  {
   "cell_type": "markdown",
   "metadata": {},
   "source": [
    "### 2.1 Categorical Variables - Bar Charts"
   ]
  },
  {
   "cell_type": "markdown",
   "metadata": {},
   "source": [
    "First check the frequencies of two discrete variables `SeriousDlqin2yrs` and `zipcode`."
   ]
  },
  {
   "cell_type": "code",
   "execution_count": null,
   "metadata": {
    "scrolled": false
   },
   "outputs": [],
   "source": [
    "fig = plt.figure(figsize=[20, 8])\n",
    "ax0 = fig.add_subplot(1, 2, 1)\n",
    "ax1 = fig.add_subplot(1, 2, 2)\n",
    "\n",
    "viz.bar_plot(ax0, data, \"SeriousDlqin2yrs\", sub=False,\n",
    "             labels=[\"Count of People Experienced Financial Distress\",\n",
    "                     \"Experienced 90 Days Past Due Delinquency or Worse\",\n",
    "                     \"Count\"], x_tick=[[\"Yes\", \"No\"], None])\n",
    "\n",
    "viz.bar_plot(ax1, data, \"zipcode\", sub=False,\n",
    "             labels=[\"Count of Zip Codes\", \"Zip Code\", \"Count\"])\n",
    "\n",
    "plt.savefig(OUTPUT_DIR + 'figure-1.png')"
   ]
  },
  {
   "cell_type": "markdown",
   "metadata": {},
   "source": [
    "We can see that in our sample, over 80% of observations have experienced 90 days past due delinquency or worse. And number of observations from zip code 60625 is much higher than the average, while that of observations from zip code 60644 is much lower than the average."
   ]
  },
  {
   "cell_type": "markdown",
   "metadata": {},
   "source": [
    "### 2.2 Numeric Variables"
   ]
  },
  {
   "cell_type": "markdown",
   "metadata": {},
   "source": [
    "### 2.2.1 Correlation Matrix"
   ]
  },
  {
   "cell_type": "code",
   "execution_count": null,
   "metadata": {},
   "outputs": [],
   "source": [
    "fig, ax = plt.subplots()\n",
    "viz.corr_triangle(ax, nvt,\n",
    "                  plot_title=\"Correlation Triangle of Numerical Variables and the Target\")\n",
    "\n",
    "plt.savefig(OUTPUT_DIR + 'figure-2.png')"
   ]
  },
  {
   "cell_type": "markdown",
   "metadata": {},
   "source": [
    "We can see here our target, `SeriousDlqin2yrs`, is relatively positively correlated with **number of times borrower has been 30-59, 60-89, and 90+ days past due in the last 2 years** and **number of dependents in family excluding themselves**, and it's negatively correlated with **age**."
   ]
  },
  {
   "cell_type": "markdown",
   "metadata": {},
   "source": [
    "As expected, **number of times borrower go past due in the last 2 years are strongly correlated**. Consider combine those three variables in the feature engineering part."
   ]
  },
  {
   "cell_type": "markdown",
   "metadata": {},
   "source": [
    "### 2.2.2 Box Plots"
   ]
  },
  {
   "cell_type": "code",
   "execution_count": null,
   "metadata": {
    "scrolled": false
   },
   "outputs": [],
   "source": [
    "viz.box_plot(numerics)\n",
    "\n",
    "plt.savefig(OUTPUT_DIR + 'figure-3.png')"
   ]
  },
  {
   "cell_type": "markdown",
   "metadata": {},
   "source": [
    "There are a lot of outliers in our numerical data. As we would combine the number of times borrower go past due in the last 2 years, that wouldn't be a problem. But we should take care of the most extreme outliers in `DebtRatio` and `MonthlyIncome`."
   ]
  },
  {
   "cell_type": "markdown",
   "metadata": {},
   "source": [
    "### 2.2.3 Histograms"
   ]
  },
  {
   "cell_type": "markdown",
   "metadata": {},
   "source": [
    "With so many outliers in our numerical data matrix, it's hard to describe their distribution in detail. So we limit the x-axis in the range of minimum to 95% quantile for better visualization below."
   ]
  },
  {
   "cell_type": "code",
   "execution_count": null,
   "metadata": {},
   "outputs": [],
   "source": [
    "viz.hist_panel(numerics, cut=True)\n",
    "\n",
    "plt.savefig(OUTPUT_DIR + 'figure-4.png')"
   ]
  },
  {
   "cell_type": "code",
   "execution_count": null,
   "metadata": {},
   "outputs": [],
   "source": []
  }
 ],
 "metadata": {
  "kernelspec": {
   "display_name": "Python 3",
   "language": "python",
   "name": "python3"
  },
  "language_info": {
   "codemirror_mode": {
    "name": "ipython",
    "version": 3
   },
   "file_extension": ".py",
   "mimetype": "text/x-python",
   "name": "python",
   "nbconvert_exporter": "python",
   "pygments_lexer": "ipython3",
   "version": "3.6.8"
  },
  "latex_envs": {
   "LaTeX_envs_menu_present": true,
   "autoclose": true,
   "autocomplete": true,
   "bibliofile": "biblio.bib",
   "cite_by": "apalike",
   "current_citInitial": 1,
   "eqLabelWithNumbers": true,
   "eqNumInitial": 1,
   "hotkeys": {
    "equation": "Ctrl-E",
    "itemize": "Ctrl-I"
   },
   "labels_anchors": false,
   "latex_user_defs": false,
   "report_style_numbering": false,
   "user_envs_cfg": false
  }
 },
 "nbformat": 4,
 "nbformat_minor": 2
}
