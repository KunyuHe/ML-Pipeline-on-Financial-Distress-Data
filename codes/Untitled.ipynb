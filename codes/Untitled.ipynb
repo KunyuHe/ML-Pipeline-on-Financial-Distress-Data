{
 "cells": [
  {
   "cell_type": "code",
   "execution_count": 1,
   "metadata": {},
   "outputs": [],
   "source": [
    "import numpy as np\n",
    "import itertools\n",
    "import warnings\n",
    "import pickle\n",
    "\n",
    "from sklearn.model_selection import cross_val_predict, StratifiedKFold\n",
    "from sklearn.neighbors import KNeighborsClassifier\n",
    "from sklearn.linear_model import LogisticRegression\n",
    "from sklearn.tree import DecisionTreeClassifier\n",
    "from sklearn.svm import LinearSVC\n",
    "from sklearn.ensemble import (RandomForestClassifier, AdaBoostClassifier,\n",
    "                              BaggingClassifier)\n",
    "from sklearn.metrics import (accuracy_score, precision_score, recall_score,\n",
    "                             f1_score, roc_auc_score)\n",
    "\n",
    "from viz import (plot_predicted_scores, plot_precision_recall, plot_auc_roc,\n",
    "                 plot_feature_importances)\n",
    "\n",
    "warnings.filterwarnings(\"ignore\")\n",
    "\n",
    "\n",
    "INPUT_DIR = \"../processed_data/\"\n",
    "OUTPUT_DIR = \"../log/\"\n",
    "OUTPUT_FILE = \"performances.csv\"\n",
    "\n",
    "MODEL_NAMES = [\"KNN\", \"Logistic Regression\", \"Decision Tree\", \"Linear SVM\",\n",
    "               \"Bagging\", \"Boosting\", \"Random Forest\"]\n",
    "MODELS = [KNeighborsClassifier, LogisticRegression, DecisionTreeClassifier,\n",
    "          LinearSVC, BaggingClassifier, AdaBoostClassifier, RandomForestClassifier]\n",
    "\n",
    "METRICS_NAMES = [\"Accuracy\", \"Precision\", \"Recall\", \"F1 Score\", \"AUC ROC Score\"]\n",
    "METRICS = [accuracy_score, precision_score, recall_score, f1_score, roc_auc_score]\n",
    "\n",
    "THRESHOLDS = [0.01, 0.02, 0.05, 0.1, 0.2, 0.3, 0.4, 0.5, 0.6, 0.7, 0.8]\n",
    "SEED = 123\n",
    "\n",
    "GRID_SEARCH_PARAMS = {\"KNN\": {\n",
    "                              'n_neighbors': list(range(50, 110, 20)),\n",
    "                              'weights': [\"uniform\", \"distance\"],\n",
    "                              'metric': [\"euclidean\", \"manhattan\", \"minkowski\"]\n",
    "                              },\n",
    "\n",
    "                      \"Logistic Regression\": {\n",
    "                                              'penalty': ['l1', 'l2'],\n",
    "                                              'C': [0.001, 0.01, 0.1, 1, 10],\n",
    "                                              'solver': ['newton-cg', 'lbfgs', 'liblinear']\n",
    "                                              },\n",
    "\n",
    "                      \"Decision Tree\": {\n",
    "                            'criterion': [\"entropy\", \"gini\"],\n",
    "                            'min_samples_split': list(np.arange(0.02, 0.05, 0.01)),\n",
    "                            'max_depth': list(range(4, 11)),\n",
    "                            'max_features': list(range(4, 15, 2))\n",
    "                            },\n",
    "\n",
    "                      \"Linear SVM\": {\n",
    "                                     'penalty': ['l1', 'l2'],\n",
    "                                     'C': [0.001, 0.01, 0.1, 1, 10]\n",
    "                                     },\n",
    "\n",
    "                      \"Bagging\": {\n",
    "                                  'max_samples': [0.05, 0.1, 0.2, 0.5],\n",
    "                                  'max_features': list(range(4, 15, 2))\n",
    "                                  },\n",
    "\n",
    "                      \"Boosting\":{\n",
    "                                  'algorithm': {\"SAMME\", \"SAMME.R\"},\n",
    "                                  'learning_rate': [0.001, 0.01, 0.1, 0.5, 1, 10]\n",
    "                                  },\n",
    "\n",
    "                      \"Random Forest\": {\n",
    "                            'min_samples_split': list(np.arange(0.01, 0.06, 0.01)),\n",
    "                            'max_depth': list(range(4, 11)),\n",
    "                            'max_features': list(range(4, 15, 2))\n",
    "                            }\n",
    "                      }\n",
    "\n",
    "DEFAULT_ARGS = {\"KNN\": {'n_jobs': -1},\n",
    "                \"Logistic Regression\": {'random_state': SEED},\n",
    "                \"Decision Tree\": {'random_state': SEED},\n",
    "                \"Linear SVM\": {'random_state': SEED, 'max_iter': 200},\n",
    "                \"Bagging\": {'n_estimators': 50, 'random_state': SEED,\n",
    "                            'oob_score': True, 'n_jobs': -1},\n",
    "                \"Boosting\": {'n_estimators': 100, 'random_state': SEED},\n",
    "                \"Random Forest\": {'n_estimators': 300, 'random_state': SEED,\n",
    "                                  'oob_score': True, 'n_jobs': -1}}"
   ]
  },
  {
   "cell_type": "code",
   "execution_count": 2,
   "metadata": {},
   "outputs": [],
   "source": [
    "def load_features(dir_path=INPUT_DIR, test=True):\n",
    "    \"\"\"\n",
    "    Load pre-processed feature matrices.\n",
    "\n",
    "    \"\"\"\n",
    "    Xs = np.load(dir_path + 'X.npz')\n",
    "    ys = np.load(dir_path + 'y.npz')\n",
    "\n",
    "    if not test:\n",
    "        X_train = Xs['train']\n",
    "        y_train = ys['train']\n",
    "        return X_train, y_train\n",
    "\n",
    "    X_train, X_test = Xs['train'], Xs['test']\n",
    "    y_train, y_test = ys['train'], ys['test']\n",
    "    return X_train, X_test, y_train, y_test\n",
    "\n",
    "\n",
    "def build_benchmark(data, metric_index):\n",
    "    \"\"\"\n",
    "    \"\"\"\n",
    "    X_train, X_test, y_train, y_test = data\n",
    "\n",
    "    benchmark = DecisionTreeClassifier(**DEFAULT_ARGS[\"Decision Tree\"])\n",
    "    benchmark.fit(X_train, y_train)\n",
    "    predicted_probs = benchmark.predict_proba(X_test)[:, 1]\n",
    "    benchmark_score = METRICS[metric_index](y_test, benchmark.predict(X_test))\n",
    "\n",
    "    print(\"\\n{} of the benchmark default decision tree model is {:.4f}.\\n\".\\\n",
    "          format(METRICS_NAMES[metric_index], round(benchmark_score, 4)))\n",
    "\n",
    "    return benchmark_score"
   ]
  },
  {
   "cell_type": "code",
   "execution_count": 3,
   "metadata": {},
   "outputs": [],
   "source": [
    "X_train, X_test, y_train, y_test = load_features()"
   ]
  },
  {
   "cell_type": "code",
   "execution_count": 4,
   "metadata": {},
   "outputs": [],
   "source": [
    "benchmark = DecisionTreeClassifier(**DEFAULT_ARGS[\"Decision Tree\"])"
   ]
  },
  {
   "cell_type": "code",
   "execution_count": 5,
   "metadata": {},
   "outputs": [
    {
     "data": {
      "text/plain": [
       "DecisionTreeClassifier(class_weight=None, criterion='gini', max_depth=None,\n",
       "            max_features=None, max_leaf_nodes=None,\n",
       "            min_impurity_decrease=0.0, min_impurity_split=None,\n",
       "            min_samples_leaf=1, min_samples_split=2,\n",
       "            min_weight_fraction_leaf=0.0, presort=False, random_state=123,\n",
       "            splitter='best')"
      ]
     },
     "execution_count": 5,
     "metadata": {},
     "output_type": "execute_result"
    }
   ],
   "source": [
    "benchmark.fit(X_train, y_train)"
   ]
  },
  {
   "cell_type": "code",
   "execution_count": 6,
   "metadata": {},
   "outputs": [
    {
     "data": {
      "text/plain": [
       "True"
      ]
     },
     "execution_count": 6,
     "metadata": {},
     "output_type": "execute_result"
    }
   ],
   "source": [
    "hasattr(benchmark, \"feature_importances_\")"
   ]
  },
  {
   "cell_type": "code",
   "execution_count": 7,
   "metadata": {},
   "outputs": [
    {
     "name": "stdout",
     "output_type": "stream",
     "text": [
      "Index(['RevolvingUtilizationOfUnsecuredLines', 'age', 'DebtRatio',\n",
      "       'MonthlyIncome', 'NumberOfOpenCreditLinesAndLoans',\n",
      "       'NumberRealEstateLoansOrLines', 'NumberOfDependents', 'PastDue',\n",
      "       'zipcode_60601', 'zipcode_60618', 'zipcode_60625', 'zipcode_60629',\n",
      "       'zipcode_60637', 'zipcode_60644'],\n",
      "      dtype='object')\n"
     ]
    }
   ],
   "source": [
    "            with open(INPUT_DIR + 'col_names.pickle', 'rb') as handle:\n",
    "                col_names = pickle.load(handle)\n",
    "                print(col_names)"
   ]
  },
  {
   "cell_type": "code",
   "execution_count": 23,
   "metadata": {},
   "outputs": [],
   "source": [
    "clf = benchmark\n",
    "n = 5"
   ]
  },
  {
   "cell_type": "code",
   "execution_count": 24,
   "metadata": {},
   "outputs": [],
   "source": [
    "    importances = clf.feature_importances_\n",
    "    indices = np.argsort(importances)[::-1][:n]\n",
    "    labels = col_names[indices]"
   ]
  },
  {
   "cell_type": "code",
   "execution_count": 39,
   "metadata": {},
   "outputs": [
    {
     "data": {
      "text/plain": [
       "[0.01114763023318237,\n",
       " 0.012787777342147828,\n",
       " 0.013523677919574522,\n",
       " 0.014451305373616764,\n",
       " 0.01555631643232033]"
      ]
     },
     "execution_count": 39,
     "metadata": {},
     "output_type": "execute_result"
    }
   ],
   "source": [
    "sorted(importances)[:n]"
   ]
  },
  {
   "cell_type": "code",
   "execution_count": 26,
   "metadata": {},
   "outputs": [
    {
     "data": {
      "text/plain": [
       "Index(['PastDue', 'RevolvingUtilizationOfUnsecuredLines', 'DebtRatio',\n",
       "       'MonthlyIncome', 'NumberOfOpenCreditLinesAndLoans'],\n",
       "      dtype='object')"
      ]
     },
     "execution_count": 26,
     "metadata": {},
     "output_type": "execute_result"
    }
   ],
   "source": [
    "labels"
   ]
  },
  {
   "cell_type": "code",
   "execution_count": 27,
   "metadata": {},
   "outputs": [],
   "source": [
    "\"\"\"\n",
    "Summary:     A collections of functions for visualization.\n",
    "\n",
    "Description: contains a function that reads data and data types, and many\n",
    "             other functions for visualization\n",
    "Author:      Kunyu He, CAPP'20\n",
    "\"\"\"\n",
    "\n",
    "import os\n",
    "import json\n",
    "import random\n",
    "import seaborn as sns\n",
    "import pandas as pd\n",
    "import matplotlib.pyplot as plt\n",
    "import numpy as np\n",
    "\n",
    "from matplotlib.font_manager import FontProperties\n",
    "from sklearn.preprocessing import label_binarize\n",
    "from sklearn.multiclass import OneVsRestClassifier\n",
    "from sklearn.metrics import roc_curve, auc, precision_recall_curve\n",
    "\n",
    "\n",
    "INPUT_DIR = \"../data/\"\n",
    "OUTPUT_DIR = \"../log/images/\"\n",
    "\n",
    "COLORS = list(sns.color_palette(\"Set2\")) + list(sns.color_palette(\"Set3\"))\n",
    "TITLE = FontProperties(family='serif', size=14, weight=\"semibold\")\n",
    "AXIS = FontProperties(family='serif', size=12)\n",
    "TICKS = FontProperties(family='serif', size=10)\n",
    "\n",
    "POSITIVE = 1\n",
    "N_CLASSES = 2\n"
   ]
  },
  {
   "cell_type": "code",
   "execution_count": 37,
   "metadata": {
    "scrolled": false
   },
   "outputs": [
    {
     "data": {
      "text/plain": [
       "([<matplotlib.axis.XTick at 0x15ed5922d30>,\n",
       "  <matplotlib.axis.XTick at 0x15ed559c048>,\n",
       "  <matplotlib.axis.XTick at 0x15ed559c278>,\n",
       "  <matplotlib.axis.XTick at 0x15ed58eb5f8>,\n",
       "  <matplotlib.axis.XTick at 0x15ed58df128>],\n",
       " <a list of 5 Text xticklabel objects>)"
      ]
     },
     "execution_count": 37,
     "metadata": {},
     "output_type": "execute_result"
    },
    {
     "data": {
      "image/png": "[encoded data removed]",
      "text/plain": [
       "<Figure size 432x288 with 1 Axes>"
      ]
     },
     "metadata": {
      "needs_background": "light"
     },
     "output_type": "display_data"
    }
   ],
   "source": [
    "    fig, ax = plt.subplots()\n",
    "    plt.bar(range(n), sorted(clf.feature_importances_)[:n], color='g',\n",
    "            alpha=0.4, edgecolor=['black']*n)\n",
    "    plt.ylabel(\"Feature Importance\", fontproperties=AXIS)\n",
    "    plt.xlabel(\"Feature Name\", fontproperties=AXIS)\n",
    "    plt.xticks(np.arange(n), labels, rotation='vertical', fontproperties=AXIS)"
   ]
  },
  {
   "cell_type": "code",
   "execution_count": 33,
   "metadata": {},
   "outputs": [
    {
     "data": {
      "text/plain": [
       "([<matplotlib.axis.YTick at 0x15ed5d805c0>,\n",
       "  <matplotlib.axis.YTick at 0x15ed5d87f28>,\n",
       "  <matplotlib.axis.YTick at 0x15ed5d6cf60>,\n",
       "  <matplotlib.axis.YTick at 0x15ed5dc0668>,\n",
       "  <matplotlib.axis.YTick at 0x15ed5dc0b00>],\n",
       " <a list of 5 Text yticklabel objects>)"
      ]
     },
     "execution_count": 33,
     "metadata": {},
     "output_type": "execute_result"
    },
    {
     "data": {
      "image/png": "[encoded data removed]",
      "text/plain": [
       "<Figure size 432x288 with 1 Axes>"
      ]
     },
     "metadata": {
      "needs_background": "light"
     },
     "output_type": "display_data"
    }
   ],
   "source": [
    "fig, ax = plt.subplots()\n",
    "plt.barh(range(n), sorted(clf.feature_importances_)[:n], color='g',\n",
    "         alpha=0.3, edgecolor='black')\n",
    "plt.xlabel(\"Feature Importance\", fontproperties=AXIS)\n",
    "plt.ylabel(\"Feature Name\", fontproperties=AXIS)\n",
    "plt.yticks(np.arange(n), labels)\n"
   ]
  },
  {
   "cell_type": "code",
   "execution_count": 21,
   "metadata": {},
   "outputs": [
    {
     "data": {
      "image/png": "[encoded data removed]",
      "text/plain": [
       "<Figure size 432x288 with 1 Axes>"
      ]
     },
     "metadata": {
      "needs_background": "light"
     },
     "output_type": "display_data"
    }
   ],
   "source": [
    "fig, ax = plt.subplots()\n",
    "plt.bar(range(n), sorted(clf.feature_importances_)[:n], color='g',\n",
    "         alpha=0.3, edgecolor='black')\n",
    "plt.xlabel(\"Feature Importance\", fontproperties=AXIS)\n",
    "plt.ylabel(\"Feature Name\", fontproperties=AXIS)\n",
    "plt.yticks(np.arange(n), labels)\n",
    "figname = OUTPUT_DIR + \"feature importance/\" + \"{}.png\".format(\"A\")\n",
    "plt.title(\"Feature Importance: Top {}\\n\".format(n) + \"A\",\n",
    "              fontproperties=AXIS)\n",
    "fig.savefig(figname, dpi=400)"
   ]
  },
  {
   "cell_type": "code",
   "execution_count": null,
   "metadata": {},
   "outputs": [],
   "source": []
  },
  {
   "cell_type": "code",
   "execution_count": null,
   "metadata": {},
   "outputs": [],
   "source": [
    "def plot_feature_importances(clf, col_names, n=5, title=\"\"):\n",
    "    \"\"\"\n",
    "    Plot the feature importances of the decision tree. This credit to the\n",
    "    University of Michigan.\n",
    "\n",
    "    Inputs:\n",
    "        clf: the model\n",
    "        feature_names: (list) the list of strings to store feature names\n",
    "\n",
    "    Returns:\n",
    "        None\n",
    "    \"\"\"\n",
    "    importances = clf.feature_importances_\n",
    "    indices = np.argsort(importances)[::-1][:n]\n",
    "    labels = col_names[indices]\n",
    "\n",
    "    fig, ax = plt.subplots()\n",
    "    plt.barh(range(n), sorted(clf.feature_importances_)[:n], color='g',\n",
    "             alpha=0.3, edgecolor='black')\n",
    "\n",
    "    plt.xlabel(\"Feature Importance\", fontproperties=AXIS)\n",
    "    plt.ylabel(\"Feature Name\", fontproperties=AXIS)\n",
    "    plt.yticks(np.arange(n), labels)\n",
    "\n",
    "    figname = OUTPUT_DIR + \"feature importance/\" + \"{}.png\".format(title)\n",
    "    plt.title(\"Feature Importance: Top {}\\n\".format(n) + title,\n",
    "              fontproperties=AXIS)\n",
    "    fig.savefig(figname, dpi=400)\n",
    "\n",
    "    fig.tight_layout()\n",
    "    plt.show(block=False)\n",
    "    plt.pause(3)\n",
    "    plt.close()\n"
   ]
  },
  {
   "cell_type": "code",
   "execution_count": null,
   "metadata": {},
   "outputs": [],
   "source": []
  }
 ],
 "metadata": {
  "kernelspec": {
   "display_name": "Python 3",
   "language": "python",
   "name": "python3"
  },
  "language_info": {
   "codemirror_mode": {
    "name": "ipython",
    "version": 3
   },
   "file_extension": ".py",
   "mimetype": "text/x-python",
   "name": "python",
   "nbconvert_exporter": "python",
   "pygments_lexer": "ipython3",
   "version": "3.6.8"
  },
  "latex_envs": {
   "LaTeX_envs_menu_present": true,
   "autoclose": true,
   "autocomplete": true,
   "bibliofile": "biblio.bib",
   "cite_by": "apalike",
   "current_citInitial": 1,
   "eqLabelWithNumbers": true,
   "eqNumInitial": 1,
   "hotkeys": {
    "equation": "Ctrl-E",
    "itemize": "Ctrl-I"
   },
   "labels_anchors": false,
   "latex_user_defs": false,
   "report_style_numbering": false,
   "user_envs_cfg": false
  }
 },
 "nbformat": 4,
 "nbformat_minor": 2
}
